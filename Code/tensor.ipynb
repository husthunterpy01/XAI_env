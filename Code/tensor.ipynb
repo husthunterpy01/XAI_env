{
 "cells": [
  {
   "cell_type": "code",
   "execution_count": 56,
   "id": "35d1db3e",
   "metadata": {},
   "outputs": [
    {
     "name": "stdout",
     "output_type": "stream",
     "text": [
      "(7304, 20)\n"
     ]
    },
    {
     "data": {
      "text/plain": [
       "False"
      ]
     },
     "execution_count": 56,
     "metadata": {},
     "output_type": "execute_result"
    }
   ],
   "source": [
    "import h5py\n",
    "import numpy as np\n",
    "import torch \n",
    "\n",
    "file_dir = '/home/quang/Documents/XAI_env-main/data/processed/IMS/'\n",
    "file_name = 'x_train.hdf5'\n",
    "\n",
    "with h5py.File(file_dir + file_name, 'r') as file:\n",
    "    dataset1 = file['x_train'][:]  # Replace 'dataset_name' with the actual dataset key or name\n",
    "    dataset1_shape = dataset1.shape\n",
    "    a = dataset1.dtype\n",
    "print(dataset1_shape)\n",
    "torch.is_tensor(dataset)\n",
    "   "
   ]
  },
  {
   "cell_type": "code",
   "execution_count": 57,
   "id": "7e9454ec",
   "metadata": {},
   "outputs": [
    {
     "name": "stdout",
     "output_type": "stream",
     "text": [
      "(7304, 3)\n"
     ]
    }
   ],
   "source": [
    "import h5py\n",
    "\n",
    "file_dir = '/home/quang/Documents/XAI_env-main/data/processed/IMS/'\n",
    "file_name = 'y_train.hdf5'\n",
    "\n",
    "with h5py.File(file_dir + file_name, 'r') as file:\n",
    "    dataset2 = file['y_train'][:]  # Replace 'dataset_name' with the actual dataset key or name\n",
    "    dataset2_shape = dataset2.shape\n",
    "\n",
    "print(dataset2_shape)"
   ]
  },
  {
   "cell_type": "code",
   "execution_count": 58,
   "id": "260f86e3",
   "metadata": {},
   "outputs": [],
   "source": [
    "class CustomDataset:\n",
    "    def __init__(self, data, targets):\n",
    "        self.data = data\n",
    "        self.targets = targets\n",
    "    \n",
    "    def __len__(self):\n",
    "        return len(self.data)\n",
    "    \n",
    "    def __getitem__(self, idx):\n",
    "        current_sample = torch.tensor(self.data[idx, :], dtype=torch.float)\n",
    "        current_target = torch.tensor(self.targets[idx], dtype=torch.long)\n",
    "        return {\n",
    "            \"sample\": current_sample,\n",
    "            \"target\": current_target,\n",
    "        }"
   ]
  },
  {
   "cell_type": "code",
   "execution_count": 59,
   "id": "a926d025",
   "metadata": {},
   "outputs": [
    {
     "data": {
      "text/plain": [
       "(7304, 20)"
      ]
     },
     "execution_count": 59,
     "metadata": {},
     "output_type": "execute_result"
    }
   ],
   "source": [
    "data = dataset1\n",
    "data.shape"
   ]
  },
  {
   "cell_type": "code",
   "execution_count": 60,
   "id": "4de80ae0",
   "metadata": {},
   "outputs": [
    {
     "data": {
      "text/plain": [
       "(7304, 3)"
      ]
     },
     "execution_count": 60,
     "metadata": {},
     "output_type": "execute_result"
    }
   ],
   "source": [
    "targets = dataset2\n",
    "targets.shape"
   ]
  },
  {
   "cell_type": "code",
   "execution_count": 61,
   "id": "f985e1d5",
   "metadata": {},
   "outputs": [],
   "source": [
    "custom_dataset = CustomDataset(data=data,targets=targets)"
   ]
  },
  {
   "cell_type": "code",
   "execution_count": 62,
   "id": "3d7ccbbd",
   "metadata": {},
   "outputs": [
    {
     "data": {
      "text/plain": [
       "7304"
      ]
     },
     "execution_count": 62,
     "metadata": {},
     "output_type": "execute_result"
    }
   ],
   "source": [
    "len(custom_dataset)"
   ]
  },
  {
   "cell_type": "code",
   "execution_count": 63,
   "id": "967809df",
   "metadata": {},
   "outputs": [
    {
     "name": "stdout",
     "output_type": "stream",
     "text": [
      "<__main__.CustomDataset object at 0x7f97df157160>\n"
     ]
    }
   ],
   "source": [
    "print(custom_dataset)"
   ]
  },
  {
   "cell_type": "code",
   "execution_count": 64,
   "id": "62a722e1",
   "metadata": {},
   "outputs": [
    {
     "data": {
      "text/plain": [
       "{'sample': tensor([0.1569, 0.0183, 0.0194, 0.0166, 0.1277, 0.0036, 0.0034, 0.0016, 0.0035,\n",
       "         0.0034, 0.0028, 0.0036, 0.0047, 0.0036, 0.0046, 0.0066, 0.0068, 0.0120,\n",
       "         0.0117, 0.0073]),\n",
       " 'target': tensor([34,  0, 10])}"
      ]
     },
     "execution_count": 64,
     "metadata": {},
     "output_type": "execute_result"
    }
   ],
   "source": [
    "custom_dataset[0]"
   ]
  },
  {
   "cell_type": "code",
   "execution_count": null,
   "id": "26622652",
   "metadata": {},
   "outputs": [],
   "source": []
  }
 ],
 "metadata": {
  "kernelspec": {
   "display_name": "Python 3 (ipykernel)",
   "language": "python",
   "name": "python3"
  },
  "language_info": {
   "codemirror_mode": {
    "name": "ipython",
    "version": 3
   },
   "file_extension": ".py",
   "mimetype": "text/x-python",
   "name": "python",
   "nbconvert_exporter": "python",
   "pygments_lexer": "ipython3",
   "version": "3.10.6"
  }
 },
 "nbformat": 4,
 "nbformat_minor": 5
}
