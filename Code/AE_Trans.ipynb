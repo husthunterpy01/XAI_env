{
 "cells": [
  {
   "cell_type": "code",
   "execution_count": 35,
   "id": "c3ca05fa",
   "metadata": {},
   "outputs": [
    {
     "data": {
      "text/plain": [
       "True"
      ]
     },
     "execution_count": 35,
     "metadata": {},
     "output_type": "execute_result"
    }
   ],
   "source": [
    "import wandb\n",
    "wandb.login()"
   ]
  },
  {
   "cell_type": "code",
   "execution_count": 36,
   "id": "d4fce8f0",
   "metadata": {},
   "outputs": [],
   "source": [
    "import numpy as np\n",
    "import pandas as pd\n",
    "import torch.nn as nn\n",
    "import h5py\n",
    "import pickle\n",
    "import torch\n",
    "import time\n",
    "import yaml\n",
    "import copy\n",
    "import sys\n",
    "import time\n",
    "import os\n",
    "from torch import optim\n",
    "from torch.utils.data import Dataset\n",
    "from torch.utils.data.dataloader import DataLoader"
   ]
  },
  {
   "cell_type": "code",
   "execution_count": 37,
   "id": "4bb78549",
   "metadata": {},
   "outputs": [],
   "source": [
    "import yaml\n",
    "config_wbd = {}\n",
    "with open('/home/quang/Documents/XAI_env-main/Code/config.yml', 'r') as f:\n",
    "    config_wdb = yaml.safe_load(f)"
   ]
  },
  {
   "cell_type": "code",
   "execution_count": 38,
   "id": "fe07d117",
   "metadata": {},
   "outputs": [
    {
     "data": {
      "text/plain": [
       "{'method': 'bayes',\n",
       " 'metric': {'goal': 'minimize', 'name': 'test_loss_avg'},\n",
       " 'parameters': {'batch_size': {'values': [128]},\n",
       "  'd_model': {'value': 16},\n",
       "  'dff': {'values': [128, 256]},\n",
       "  'dropout': {'distribution': 'uniform', 'min': 0.05, 'max': 0.15},\n",
       "  'l_win': {'distribution': 'int_uniform', 'min': 120, 'max': 125},\n",
       "  'lr': {'distribution': 'log_uniform', 'min': -6.5, 'max': -5.5},\n",
       "  'n_epochs': {'distribution': 'int_uniform', 'min': 60, 'max': 100},\n",
       "  'n_head': {'values': [1, 23]},\n",
       "  'num_layers': {'distribution': 'int_uniform', 'min': 1, 'max': 3},\n",
       "  'weight_decay': {'distribution': 'log_uniform', 'min': -6, 'max': -4},\n",
       "  'noise_level': {'distribution': 'uniform', 'min': 0.01, 'max': 0.05},\n",
       "  'embed_dim': {'value': 8},\n",
       "  'data_dir': {'value': '/home/quang/Documents/XAI_env-main/data/processed/'}}}"
      ]
     },
     "execution_count": 38,
     "metadata": {},
     "output_type": "execute_result"
    }
   ],
   "source": [
    "config_wdb"
   ]
  },
  {
   "cell_type": "code",
   "execution_count": 39,
   "id": "5d1f5e79",
   "metadata": {},
   "outputs": [],
   "source": [
    "# Data loader\n",
    "# Noisy Data loader\n",
    "# Assume that we will take the preprocessing process by the original paper\n",
    "class CustomDataset(Dataset):\n",
    "    def __init__(self,config,x_path,y_path):\n",
    "        super().__init__()\n",
    "        self.config = config\n",
    "        self.x_path = x_path\n",
    "        self.y_path = y_path\n",
    "        self.load_dataset()\n",
    "    # Return the length of the data\n",
    "    def __len__(self):\n",
    "        return self.data_.shape[0]\n",
    "    # Defining the dataframe and label for the data before entering the model\n",
    "    def __getitem__(self,idx):\n",
    "        return {'input':self.data_[index], \n",
    "                'labels': self.labels[index]}\n",
    "\n",
    "     # The following will be used in order to prepare to use the data_loader to put the dataset into the model\n",
    "    def load_dataset(self):\n",
    "        x_data = {}\n",
    "        y_data = {}\n",
    "        x_path_ = os.path.join(self.config['data_dir'], self.x_path)\n",
    "        y_path_ = os.path.join(self.config['data_dir'], self.y_path)\n",
    "        \n",
    "        with h5py.File(x_path_, 'rb') as x_file:\n",
    "            x_data['data'] = np.array(x_file['data'])\n",
    "        \n",
    "        with h5py.File(y_path_, 'rb') as y_file:\n",
    "            y_data['label'] = np.array(y_file['label'])\n",
    "\n",
    "        self.data_ = x_data['data'].transpose(0, 2, 1)\n",
    "        self.data_ = np.expand_dims(self.data_, axis=1)\n",
    "        \n",
    "        self.labels = y_data['label']\n",
    "    #Return the shape of the data_ everytime passing by\n",
    "    def getshape(self):\n",
    "        return self.data_.shape[1:]\n"
   ]
  },
  {
   "cell_type": "code",
   "execution_count": 40,
   "id": "7027c016",
   "metadata": {},
   "outputs": [],
   "source": [
    "#Trainer \n",
    "class ModelTrainer():\n",
    "    def __init__(self, model, train_data, criterion, optimizer, device, config):\n",
    "        self.model = model\n",
    "        self.train_data = train_data\n",
    "        self.device = device\n",
    "        self.config = config\n",
    "        self.train_loss_list = list()\n",
    "        self.min_loss = float('inf')\n",
    "        self.best_model = None\n",
    "        self.best_optimizer = None\n",
    "        self.optimizer = optimizer\n",
    "        self.criterion = criterion\n",
    "\n",
    "    def train_epoch(self, epoch):\n",
    "        train_loss = 0.0\n",
    "        self.model.train()\n",
    "        for x, rul in self.train_data:\n",
    "            self.model.zero_grad()\n",
    "            out = self.model(x.to(self.device).float())\n",
    "            loss = torch.sqrt(self.criterion(out.float(), rul.to(self.device).float())) # RMSE\n",
    "            loss.backward()\n",
    "            self.optimizer.step()\n",
    "            train_loss += loss\n",
    "\n",
    "        train_loss = train_loss / len(self.train_data)\n",
    "        wandb.log({\"train loss\": train_loss})\n",
    "        self.train_loss_list.append(train_loss)\n",
    "\n",
    "        if train_loss < self.min_loss:\n",
    "            self.min_loss = train_loss\n",
    "            self.best_model = deepcopy(self.model.state_dict())\n",
    "            self.best_optimizer = deepcopy(self.optimizer.state_dict())\n",
    "            self.best_epoch_in_round = epoch\n",
    "    # Set up the epoch for trainning process\n",
    "    def train(self):\n",
    "        self.model.to(self.device)\n",
    "\n",
    "        for epoch in range(1, self.config['n_epochs'] + 1):\n",
    "            self.train_epoch(epoch)\n",
    "            wandb.log({\"epoch\": epoch})\n",
    "\n",
    "        self.config['train_loss_list'] = self.train_loss_list\n",
    "\n",
    "    def update_config(self):\n",
    "        return self.config\n",
    "\n",
    "\n"
   ]
  },
  {
   "cell_type": "code",
   "execution_count": 41,
   "id": "a60d0545",
   "metadata": {},
   "outputs": [
    {
     "name": "stderr",
     "output_type": "stream",
     "text": [
      "\u001b[34m\u001b[1mwandb\u001b[0m: \u001b[33mWARNING\u001b[0m Malformed sweep config detected! This may cause your sweep to behave in unexpected ways.\n",
      "\u001b[34m\u001b[1mwandb\u001b[0m: \u001b[33mWARNING\u001b[0m To avoid this, please fix the sweep config schema violations below:\n",
      "\u001b[34m\u001b[1mwandb\u001b[0m: \u001b[33mWARNING\u001b[0m   Violation 1. lr uses log_uniform, where min/max specify base-e exponents. Use log_uniform_values to specify limit values.\n",
      "\u001b[34m\u001b[1mwandb\u001b[0m: \u001b[33mWARNING\u001b[0m   Violation 2. weight_decay uses log_uniform, where min/max specify base-e exponents. Use log_uniform_values to specify limit values.\n"
     ]
    },
    {
     "name": "stdout",
     "output_type": "stream",
     "text": [
      "Create sweep with ID: zy8f4iah\n",
      "Sweep URL: https://wandb.ai/zhukov01/RUL_Bearing/sweeps/zy8f4iah\n"
     ]
    }
   ],
   "source": [
    "sweep_id = wandb.sweep(sweep=config_wdb, project='RUL_Bearing')"
   ]
  },
  {
   "cell_type": "code",
   "execution_count": 42,
   "id": "e39b8bd0",
   "metadata": {},
   "outputs": [],
   "source": [
    "#Train\n",
    "torch.manual_seed(42)\n",
    "def training():\n",
    "    with wandb.init(config = config_wbd):\n",
    "        config = wandb.config\n",
    "        device = torch.device(\"cuda\" if torch.cuda.is_available() else \"cpu\")\n",
    "        train_data = CustomDataset(config, '/home/quang/Documents/XAI_env-main/data/processed/IMS/x_train.hdf5','/home/quang/Documents/XAI_env-main/data/processed/IMS/y_train.hdf5')\n",
    "        train_loader = DataLoader(train_data,\n",
    "                                  batch_size=128,\n",
    "                                  shuffle=True)\n",
    "        shape = train_data.getshape()\n",
    "        model = Net(d_model=config['d_model'],\n",
    "                    nhead=config['n_head'],\n",
    "                    feature_size = shape,\n",
    "                    noise_level = config['noise_level'],\n",
    "                    embed_dim = config['embed_dim'],\n",
    "                    n_head = configp['n_head'],\n",
    "                    num_layers=config['num_layers'],\n",
    "                    dropout=config['dropout'],\n",
    "                    l_win=config['l_win'])\n",
    "\n",
    "        optimizer = torch.optim.Adam(model.parameters(), lr=config[\"lr\"], weight_decay=config['weight_decay'])\n",
    "        criterion = nn.MSELoss()\n",
    "        trainer = ModelTrainer(model, train_loader, criterion, optimizer, device, config)\n",
    "        trainer.train()\n",
    "\n",
    "        test_data = CustomDataset(config,'/home/quang/Documents/XAI_env-main/data/processed/IMS/x_test.hdf5','/home/quang/Documents/XAI_env-main/data/processed/IMS/y_test.hdf5')\n",
    "        test_loader = DataLoader(test_data,\n",
    "                                  batch_size=128,\n",
    "                                  shuffle=True)\n",
    "        model.to(device)\n",
    "        test_loss = 0.0\n",
    "        test_loss_list = list()\n",
    "        pred_list = list()\n",
    "        with torch.no_grad():\n",
    "            for x, rul in test_loader:\n",
    "                out = model(x.to(device).float())\n",
    "                loss = torch.sqrt(criterion(out.float(), rul.to(device).float()))\n",
    "                test_loss += loss\n",
    "                test_loss_list.append(loss)\n",
    "                pred_list.append(out.float())\n",
    "\n",
    "        test_loss_avg = test_loss / len(test_loader)\n",
    "        config['truth_list'] = truth_list\n",
    "        config['pred_list'] = pred_list\n",
    "        config['test_loss_avg'] = test_loss_avg\n",
    "        config['test_loss_list_per_id'] = test_loss_list\n",
    "        wandb.log({\"test_loss_avg\": test_loss_avg})\n",
    "\n",
    "\n",
    "\n",
    "\n",
    "\n",
    "        val_data = CustomDataset(config,'/home/quang/Documents/XAI_env-main/data/processed/IMS/x_val.hdf5','/home/quang/Documents/XAI_env-main/data/processed/IMS/y_val.hdf5' )\n",
    "        val_loader = DataLoader(val_data,\n",
    "                                 batch_size=128,\n",
    "                                 shuffle=True)\n",
    "        model.to(device)\n",
    "        val_loss = 0.0\n",
    "        val_loss_list = list()\n",
    "        with torch.no_grad():\n",
    "            for x, rul in val_loader:\n",
    "                out = model(x.to(device).float())\n",
    "                loss = torch.sqrt(criterion(out.float(), rul.to(device).float()))\n",
    "                val_loss += loss\n",
    "                val_loss_list.append(loss)\n",
    "        val_loss_avg = val_loss / len(test_loader)\n",
    "        config['val_loss_avg'] = test_loss_avg\n",
    "        config['val_loss_list_per_id'] = test_loss_list\n",
    "        wandb.log({\"val_loss_avg\": test_loss_avg})"
   ]
  },
  {
   "cell_type": "code",
   "execution_count": 43,
   "id": "664f6adb",
   "metadata": {
    "scrolled": false
   },
   "outputs": [
    {
     "name": "stdout",
     "output_type": "stream",
     "text": [
      "Thứ tư, 31 Tháng 5 năm 2023 17:30:48 +07\r\n"
     ]
    },
    {
     "name": "stderr",
     "output_type": "stream",
     "text": [
      "\u001b[34m\u001b[1mwandb\u001b[0m: Agent Starting Run: ixqy81r3 with config:\n",
      "\u001b[34m\u001b[1mwandb\u001b[0m: \tbatch_size: 128\n",
      "\u001b[34m\u001b[1mwandb\u001b[0m: \td_model: 16\n",
      "\u001b[34m\u001b[1mwandb\u001b[0m: \tdata_dir: /home/quang/Documents/XAI_env-main/data/processed/\n",
      "\u001b[34m\u001b[1mwandb\u001b[0m: \tdff: 128\n",
      "\u001b[34m\u001b[1mwandb\u001b[0m: \tdropout: 0.13270487094734934\n",
      "\u001b[34m\u001b[1mwandb\u001b[0m: \tembed_dim: 8\n",
      "\u001b[34m\u001b[1mwandb\u001b[0m: \tl_win: 120\n",
      "\u001b[34m\u001b[1mwandb\u001b[0m: \tlr: 0.002931135841755765\n",
      "\u001b[34m\u001b[1mwandb\u001b[0m: \tn_epochs: 76\n",
      "\u001b[34m\u001b[1mwandb\u001b[0m: \tn_head: 23\n",
      "\u001b[34m\u001b[1mwandb\u001b[0m: \tnoise_level: 0.013961642145186862\n",
      "\u001b[34m\u001b[1mwandb\u001b[0m: \tnum_layers: 2\n",
      "\u001b[34m\u001b[1mwandb\u001b[0m: \tweight_decay: 0.002630728350966457\n"
     ]
    },
    {
     "data": {
      "text/html": [
       "Tracking run with wandb version 0.15.3"
      ],
      "text/plain": [
       "<IPython.core.display.HTML object>"
      ]
     },
     "metadata": {},
     "output_type": "display_data"
    },
    {
     "data": {
      "text/html": [
       "Run data is saved locally in <code>/home/quang/Documents/XAI_env-main/Code/wandb/run-20230531_173052-ixqy81r3</code>"
      ],
      "text/plain": [
       "<IPython.core.display.HTML object>"
      ]
     },
     "metadata": {},
     "output_type": "display_data"
    },
    {
     "data": {
      "text/html": [
       "Syncing run <strong><a href='https://wandb.ai/zhukov01/RUL_Bearing/runs/ixqy81r3' target=\"_blank\">magic-sweep-1</a></strong> to <a href='https://wandb.ai/zhukov01/RUL_Bearing' target=\"_blank\">Weights & Biases</a> (<a href='https://wandb.me/run' target=\"_blank\">docs</a>)<br/>Sweep page: <a href='https://wandb.ai/zhukov01/RUL_Bearing/sweeps/zy8f4iah' target=\"_blank\">https://wandb.ai/zhukov01/RUL_Bearing/sweeps/zy8f4iah</a>"
      ],
      "text/plain": [
       "<IPython.core.display.HTML object>"
      ]
     },
     "metadata": {},
     "output_type": "display_data"
    },
    {
     "data": {
      "text/html": [
       " View project at <a href='https://wandb.ai/zhukov01/RUL_Bearing' target=\"_blank\">https://wandb.ai/zhukov01/RUL_Bearing</a>"
      ],
      "text/plain": [
       "<IPython.core.display.HTML object>"
      ]
     },
     "metadata": {},
     "output_type": "display_data"
    },
    {
     "data": {
      "text/html": [
       " View sweep at <a href='https://wandb.ai/zhukov01/RUL_Bearing/sweeps/zy8f4iah' target=\"_blank\">https://wandb.ai/zhukov01/RUL_Bearing/sweeps/zy8f4iah</a>"
      ],
      "text/plain": [
       "<IPython.core.display.HTML object>"
      ]
     },
     "metadata": {},
     "output_type": "display_data"
    },
    {
     "data": {
      "text/html": [
       " View run at <a href='https://wandb.ai/zhukov01/RUL_Bearing/runs/ixqy81r3' target=\"_blank\">https://wandb.ai/zhukov01/RUL_Bearing/runs/ixqy81r3</a>"
      ],
      "text/plain": [
       "<IPython.core.display.HTML object>"
      ]
     },
     "metadata": {},
     "output_type": "display_data"
    },
    {
     "data": {
      "text/html": [
       "Waiting for W&B process to finish... <strong style=\"color:red\">(failed 1).</strong> Press Control-C to abort syncing."
      ],
      "text/plain": [
       "<IPython.core.display.HTML object>"
      ]
     },
     "metadata": {},
     "output_type": "display_data"
    },
    {
     "data": {
      "application/vnd.jupyter.widget-view+json": {
       "model_id": "33f133ce67324e9b9ae479f8d8675a6a",
       "version_major": 2,
       "version_minor": 0
      },
      "text/plain": [
       "VBox(children=(Label(value='0.001 MB of 0.002 MB uploaded (0.000 MB deduped)\\r'), FloatProgress(value=0.582903…"
      ]
     },
     "metadata": {},
     "output_type": "display_data"
    },
    {
     "data": {
      "text/html": [
       " View run <strong style=\"color:#cdcd00\">magic-sweep-1</strong> at: <a href='https://wandb.ai/zhukov01/RUL_Bearing/runs/ixqy81r3' target=\"_blank\">https://wandb.ai/zhukov01/RUL_Bearing/runs/ixqy81r3</a><br/>Synced 4 W&B file(s), 0 media file(s), 0 artifact file(s) and 0 other file(s)"
      ],
      "text/plain": [
       "<IPython.core.display.HTML object>"
      ]
     },
     "metadata": {},
     "output_type": "display_data"
    },
    {
     "data": {
      "text/html": [
       "Find logs at: <code>./wandb/run-20230531_173052-ixqy81r3/logs</code>"
      ],
      "text/plain": [
       "<IPython.core.display.HTML object>"
      ]
     },
     "metadata": {},
     "output_type": "display_data"
    },
    {
     "name": "stderr",
     "output_type": "stream",
     "text": [
      "Run ixqy81r3 errored: ValueError('Invalid mode; must be one of r, r+, w, w-, x, a')\n",
      "\u001b[34m\u001b[1mwandb\u001b[0m: \u001b[32m\u001b[41mERROR\u001b[0m Run ixqy81r3 errored: ValueError('Invalid mode; must be one of r, r+, w, w-, x, a')\n",
      "\u001b[34m\u001b[1mwandb\u001b[0m: Agent Starting Run: 9byhy0eu with config:\n",
      "\u001b[34m\u001b[1mwandb\u001b[0m: \tbatch_size: 128\n",
      "\u001b[34m\u001b[1mwandb\u001b[0m: \td_model: 16\n",
      "\u001b[34m\u001b[1mwandb\u001b[0m: \tdata_dir: /home/quang/Documents/XAI_env-main/data/processed/\n",
      "\u001b[34m\u001b[1mwandb\u001b[0m: \tdff: 128\n",
      "\u001b[34m\u001b[1mwandb\u001b[0m: \tdropout: 0.1415434399541383\n",
      "\u001b[34m\u001b[1mwandb\u001b[0m: \tembed_dim: 8\n",
      "\u001b[34m\u001b[1mwandb\u001b[0m: \tl_win: 122\n",
      "\u001b[34m\u001b[1mwandb\u001b[0m: \tlr: 0.0037725578533384183\n",
      "\u001b[34m\u001b[1mwandb\u001b[0m: \tn_epochs: 69\n",
      "\u001b[34m\u001b[1mwandb\u001b[0m: \tn_head: 23\n",
      "\u001b[34m\u001b[1mwandb\u001b[0m: \tnoise_level: 0.01230183925442669\n",
      "\u001b[34m\u001b[1mwandb\u001b[0m: \tnum_layers: 1\n",
      "\u001b[34m\u001b[1mwandb\u001b[0m: \tweight_decay: 0.008816335248606321\n"
     ]
    },
    {
     "data": {
      "text/html": [
       "Tracking run with wandb version 0.15.3"
      ],
      "text/plain": [
       "<IPython.core.display.HTML object>"
      ]
     },
     "metadata": {},
     "output_type": "display_data"
    },
    {
     "data": {
      "text/html": [
       "Run data is saved locally in <code>/home/quang/Documents/XAI_env-main/Code/wandb/run-20230531_173102-9byhy0eu</code>"
      ],
      "text/plain": [
       "<IPython.core.display.HTML object>"
      ]
     },
     "metadata": {},
     "output_type": "display_data"
    },
    {
     "data": {
      "text/html": [
       "Syncing run <strong><a href='https://wandb.ai/zhukov01/RUL_Bearing/runs/9byhy0eu' target=\"_blank\">olive-sweep-2</a></strong> to <a href='https://wandb.ai/zhukov01/RUL_Bearing' target=\"_blank\">Weights & Biases</a> (<a href='https://wandb.me/run' target=\"_blank\">docs</a>)<br/>Sweep page: <a href='https://wandb.ai/zhukov01/RUL_Bearing/sweeps/zy8f4iah' target=\"_blank\">https://wandb.ai/zhukov01/RUL_Bearing/sweeps/zy8f4iah</a>"
      ],
      "text/plain": [
       "<IPython.core.display.HTML object>"
      ]
     },
     "metadata": {},
     "output_type": "display_data"
    },
    {
     "data": {
      "text/html": [
       " View project at <a href='https://wandb.ai/zhukov01/RUL_Bearing' target=\"_blank\">https://wandb.ai/zhukov01/RUL_Bearing</a>"
      ],
      "text/plain": [
       "<IPython.core.display.HTML object>"
      ]
     },
     "metadata": {},
     "output_type": "display_data"
    },
    {
     "data": {
      "text/html": [
       " View sweep at <a href='https://wandb.ai/zhukov01/RUL_Bearing/sweeps/zy8f4iah' target=\"_blank\">https://wandb.ai/zhukov01/RUL_Bearing/sweeps/zy8f4iah</a>"
      ],
      "text/plain": [
       "<IPython.core.display.HTML object>"
      ]
     },
     "metadata": {},
     "output_type": "display_data"
    },
    {
     "data": {
      "text/html": [
       " View run at <a href='https://wandb.ai/zhukov01/RUL_Bearing/runs/9byhy0eu' target=\"_blank\">https://wandb.ai/zhukov01/RUL_Bearing/runs/9byhy0eu</a>"
      ],
      "text/plain": [
       "<IPython.core.display.HTML object>"
      ]
     },
     "metadata": {},
     "output_type": "display_data"
    },
    {
     "data": {
      "text/html": [
       "Waiting for W&B process to finish... <strong style=\"color:red\">(failed 1).</strong> Press Control-C to abort syncing."
      ],
      "text/plain": [
       "<IPython.core.display.HTML object>"
      ]
     },
     "metadata": {},
     "output_type": "display_data"
    },
    {
     "data": {
      "application/vnd.jupyter.widget-view+json": {
       "model_id": "5586bb6831884e5aaba958682a9da809",
       "version_major": 2,
       "version_minor": 0
      },
      "text/plain": [
       "VBox(children=(Label(value='0.001 MB of 0.002 MB uploaded (0.000 MB deduped)\\r'), FloatProgress(value=0.585188…"
      ]
     },
     "metadata": {},
     "output_type": "display_data"
    },
    {
     "data": {
      "text/html": [
       " View run <strong style=\"color:#cdcd00\">olive-sweep-2</strong> at: <a href='https://wandb.ai/zhukov01/RUL_Bearing/runs/9byhy0eu' target=\"_blank\">https://wandb.ai/zhukov01/RUL_Bearing/runs/9byhy0eu</a><br/>Synced 4 W&B file(s), 0 media file(s), 0 artifact file(s) and 0 other file(s)"
      ],
      "text/plain": [
       "<IPython.core.display.HTML object>"
      ]
     },
     "metadata": {},
     "output_type": "display_data"
    },
    {
     "data": {
      "text/html": [
       "Find logs at: <code>./wandb/run-20230531_173102-9byhy0eu/logs</code>"
      ],
      "text/plain": [
       "<IPython.core.display.HTML object>"
      ]
     },
     "metadata": {},
     "output_type": "display_data"
    },
    {
     "name": "stderr",
     "output_type": "stream",
     "text": [
      "Run 9byhy0eu errored: ValueError('Invalid mode; must be one of r, r+, w, w-, x, a')\n",
      "\u001b[34m\u001b[1mwandb\u001b[0m: \u001b[32m\u001b[41mERROR\u001b[0m Run 9byhy0eu errored: ValueError('Invalid mode; must be one of r, r+, w, w-, x, a')\n",
      "\u001b[34m\u001b[1mwandb\u001b[0m: Agent Starting Run: n30rxhfo with config:\n",
      "\u001b[34m\u001b[1mwandb\u001b[0m: \tbatch_size: 128\n",
      "\u001b[34m\u001b[1mwandb\u001b[0m: \td_model: 16\n",
      "\u001b[34m\u001b[1mwandb\u001b[0m: \tdata_dir: /home/quang/Documents/XAI_env-main/data/processed/\n",
      "\u001b[34m\u001b[1mwandb\u001b[0m: \tdff: 128\n",
      "\u001b[34m\u001b[1mwandb\u001b[0m: \tdropout: 0.12099195837011678\n",
      "\u001b[34m\u001b[1mwandb\u001b[0m: \tembed_dim: 8\n",
      "\u001b[34m\u001b[1mwandb\u001b[0m: \tl_win: 124\n",
      "\u001b[34m\u001b[1mwandb\u001b[0m: \tlr: 0.002382400430688468\n",
      "\u001b[34m\u001b[1mwandb\u001b[0m: \tn_epochs: 94\n",
      "\u001b[34m\u001b[1mwandb\u001b[0m: \tn_head: 1\n",
      "\u001b[34m\u001b[1mwandb\u001b[0m: \tnoise_level: 0.027348995130729324\n",
      "\u001b[34m\u001b[1mwandb\u001b[0m: \tnum_layers: 2\n",
      "\u001b[34m\u001b[1mwandb\u001b[0m: \tweight_decay: 0.003389702475163402\n"
     ]
    },
    {
     "data": {
      "text/html": [
       "Tracking run with wandb version 0.15.3"
      ],
      "text/plain": [
       "<IPython.core.display.HTML object>"
      ]
     },
     "metadata": {},
     "output_type": "display_data"
    },
    {
     "data": {
      "text/html": [
       "Run data is saved locally in <code>/home/quang/Documents/XAI_env-main/Code/wandb/run-20230531_173113-n30rxhfo</code>"
      ],
      "text/plain": [
       "<IPython.core.display.HTML object>"
      ]
     },
     "metadata": {},
     "output_type": "display_data"
    },
    {
     "data": {
      "text/html": [
       "Syncing run <strong><a href='https://wandb.ai/zhukov01/RUL_Bearing/runs/n30rxhfo' target=\"_blank\">flowing-sweep-3</a></strong> to <a href='https://wandb.ai/zhukov01/RUL_Bearing' target=\"_blank\">Weights & Biases</a> (<a href='https://wandb.me/run' target=\"_blank\">docs</a>)<br/>Sweep page: <a href='https://wandb.ai/zhukov01/RUL_Bearing/sweeps/zy8f4iah' target=\"_blank\">https://wandb.ai/zhukov01/RUL_Bearing/sweeps/zy8f4iah</a>"
      ],
      "text/plain": [
       "<IPython.core.display.HTML object>"
      ]
     },
     "metadata": {},
     "output_type": "display_data"
    },
    {
     "data": {
      "text/html": [
       " View project at <a href='https://wandb.ai/zhukov01/RUL_Bearing' target=\"_blank\">https://wandb.ai/zhukov01/RUL_Bearing</a>"
      ],
      "text/plain": [
       "<IPython.core.display.HTML object>"
      ]
     },
     "metadata": {},
     "output_type": "display_data"
    },
    {
     "data": {
      "text/html": [
       " View sweep at <a href='https://wandb.ai/zhukov01/RUL_Bearing/sweeps/zy8f4iah' target=\"_blank\">https://wandb.ai/zhukov01/RUL_Bearing/sweeps/zy8f4iah</a>"
      ],
      "text/plain": [
       "<IPython.core.display.HTML object>"
      ]
     },
     "metadata": {},
     "output_type": "display_data"
    },
    {
     "data": {
      "text/html": [
       " View run at <a href='https://wandb.ai/zhukov01/RUL_Bearing/runs/n30rxhfo' target=\"_blank\">https://wandb.ai/zhukov01/RUL_Bearing/runs/n30rxhfo</a>"
      ],
      "text/plain": [
       "<IPython.core.display.HTML object>"
      ]
     },
     "metadata": {},
     "output_type": "display_data"
    },
    {
     "data": {
      "text/html": [
       "Waiting for W&B process to finish... <strong style=\"color:red\">(failed 1).</strong> Press Control-C to abort syncing."
      ],
      "text/plain": [
       "<IPython.core.display.HTML object>"
      ]
     },
     "metadata": {},
     "output_type": "display_data"
    },
    {
     "data": {
      "application/vnd.jupyter.widget-view+json": {
       "model_id": "608ae06b4f0647bcaea2950de9ec9b97",
       "version_major": 2,
       "version_minor": 0
      },
      "text/plain": [
       "VBox(children=(Label(value='0.001 MB of 0.001 MB uploaded (0.000 MB deduped)\\r'), FloatProgress(value=0.981213…"
      ]
     },
     "metadata": {},
     "output_type": "display_data"
    },
    {
     "data": {
      "text/html": [
       " View run <strong style=\"color:#cdcd00\">flowing-sweep-3</strong> at: <a href='https://wandb.ai/zhukov01/RUL_Bearing/runs/n30rxhfo' target=\"_blank\">https://wandb.ai/zhukov01/RUL_Bearing/runs/n30rxhfo</a><br/>Synced 4 W&B file(s), 0 media file(s), 0 artifact file(s) and 0 other file(s)"
      ],
      "text/plain": [
       "<IPython.core.display.HTML object>"
      ]
     },
     "metadata": {},
     "output_type": "display_data"
    },
    {
     "data": {
      "text/html": [
       "Find logs at: <code>./wandb/run-20230531_173113-n30rxhfo/logs</code>"
      ],
      "text/plain": [
       "<IPython.core.display.HTML object>"
      ]
     },
     "metadata": {},
     "output_type": "display_data"
    },
    {
     "name": "stderr",
     "output_type": "stream",
     "text": [
      "Run n30rxhfo errored: ValueError('Invalid mode; must be one of r, r+, w, w-, x, a')\n",
      "\u001b[34m\u001b[1mwandb\u001b[0m: \u001b[32m\u001b[41mERROR\u001b[0m Run n30rxhfo errored: ValueError('Invalid mode; must be one of r, r+, w, w-, x, a')\n",
      "Detected 3 failed runs in the first 60 seconds, killing sweep.\n",
      "\u001b[34m\u001b[1mwandb\u001b[0m: \u001b[32m\u001b[41mERROR\u001b[0m Detected 3 failed runs in the first 60 seconds, killing sweep.\n",
      "\u001b[34m\u001b[1mwandb\u001b[0m: To disable this check set WANDB_AGENT_DISABLE_FLAPPING=true\n"
     ]
    }
   ],
   "source": [
    "!date\n",
    "wandb.agent(sweep_id, function=training ,count = 200)"
   ]
  },
  {
   "cell_type": "code",
   "execution_count": null,
   "id": "89189da2",
   "metadata": {},
   "outputs": [],
   "source": []
  },
  {
   "cell_type": "code",
   "execution_count": null,
   "id": "eaca6982",
   "metadata": {},
   "outputs": [],
   "source": []
  },
  {
   "cell_type": "code",
   "execution_count": null,
   "id": "408718d8",
   "metadata": {},
   "outputs": [],
   "source": []
  },
  {
   "cell_type": "code",
   "execution_count": null,
   "id": "fca03c6f",
   "metadata": {},
   "outputs": [],
   "source": []
  }
 ],
 "metadata": {
  "kernelspec": {
   "display_name": "Python 3 (ipykernel)",
   "language": "python",
   "name": "python3"
  },
  "language_info": {
   "codemirror_mode": {
    "name": "ipython",
    "version": 3
   },
   "file_extension": ".py",
   "mimetype": "text/x-python",
   "name": "python",
   "nbconvert_exporter": "python",
   "pygments_lexer": "ipython3",
   "version": "3.10.6"
  }
 },
 "nbformat": 4,
 "nbformat_minor": 5
}
