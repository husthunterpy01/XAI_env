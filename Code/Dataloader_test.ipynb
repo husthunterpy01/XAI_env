{
 "cells": [
  {
   "cell_type": "code",
   "execution_count": 1,
   "id": "421b26d5",
   "metadata": {},
   "outputs": [],
   "source": [
    "import os\n",
    "import h5py\n",
    "import numpy as np\n",
    "import torch\n",
    "from torch.utils.data import Dataset"
   ]
  },
  {
   "cell_type": "code",
   "execution_count": 2,
   "id": "d78af38b",
   "metadata": {},
   "outputs": [],
   "source": [
    "import os\n",
    "import h5py\n",
    "import numpy as np\n",
    "import torch\n",
    "from torch.utils.data import Dataset\n",
    "\n",
    "class CustomDataset(Dataset):\n",
    "    def __init__(self, config, x_path, y_path):\n",
    "        super().__init__()\n",
    "        self.config = config\n",
    "        self.x_path = x_path\n",
    "        self.y_path = y_path\n",
    "        self.load_dataset()\n",
    "\n",
    "    def __len__(self):\n",
    "        return self.data_.shape[0]\n",
    "\n",
    "    def __getitem__(self, idx):\n",
    "        input_tensor = torch.from_numpy(self.data_[idx]).float()\n",
    "        label_tensor = torch.from_numpy(np.array(self.labels[idx])).float()\n",
    "        return {'input': input_tensor, 'labels': label_tensor}\n",
    "    \n",
    "    def load_dataset(self):\n",
    "        x_data = {}\n",
    "        y_data = {}\n",
    "        x_path_ = os.path.join(self.config['data_dir'], self.x_path)\n",
    "        y_path_ = os.path.join(self.config['data_dir'], self.y_path)\n",
    "\n",
    "        with h5py.File(x_path_, 'r') as x_file:\n",
    "            x_data_key = list(x_file.keys())[0]\n",
    "            x_data['data'] = np.array(x_file[x_data_key])\n",
    "     \n",
    "        with h5py.File(y_path_, 'r') as y_file:\n",
    "            y_data_key = list(y_file.keys())[0]\n",
    "            y_data['label'] = np.array(y_file[y_data_key])\n",
    "            \n",
    "        self.data_ = x_data['data'].transpose(1, 0)\n",
    "        self.data_ = np.expand_dims(self.data_, axis=0)\n",
    "        self.labels = y_data['label']\n",
    "        self.config['data_shape'] = self.data_.shape[1:]\n",
    "        \n",
    "    def getshape(self):\n",
    "        return self.config['data_shape']\n"
   ]
  },
  {
   "cell_type": "code",
   "execution_count": 3,
   "id": "403d6c24",
   "metadata": {},
   "outputs": [],
   "source": [
    "config = {\n",
    "    'data_dir': '/home/quang/Documents/XAI_env-main/data/processed/IMS/',\n",
    "    # Other configuration parameters\n",
    "}\n",
    "x_path = 'x_train.hdf5'\n",
    "y_path = 'y_train.hdf5'\n",
    "custom_dataset = CustomDataset(config, x_path, y_path)\n"
   ]
  },
  {
   "cell_type": "code",
   "execution_count": 14,
   "id": "37e8eeb5",
   "metadata": {},
   "outputs": [
    {
     "data": {
      "text/plain": [
       "tensor([[0.1569, 0.0732, 0.0584,  ..., 0.1365, 0.0800, 0.0516],\n",
       "        [0.0183, 0.0246, 0.0208,  ..., 0.0197, 0.0172, 0.0264],\n",
       "        [0.0194, 0.0324, 0.0390,  ..., 0.0380, 0.0298, 0.0841],\n",
       "        ...,\n",
       "        [0.0120, 0.0072, 0.0354,  ..., 0.0078, 0.0114, 0.2136],\n",
       "        [0.0117, 0.0109, 0.0467,  ..., 0.0105, 0.0074, 0.1589],\n",
       "        [0.0073, 0.0063, 0.0314,  ..., 0.0027, 0.0040, 0.0651]])"
      ]
     },
     "execution_count": 14,
     "metadata": {},
     "output_type": "execute_result"
    }
   ],
   "source": [
    "custom_dataset[0][\"input\"]\n"
   ]
  },
  {
   "cell_type": "code",
   "execution_count": 13,
   "id": "27e0c37a",
   "metadata": {},
   "outputs": [
    {
     "data": {
      "text/plain": [
       "tensor([34.5307,  0.7729, 10.1465])"
      ]
     },
     "execution_count": 13,
     "metadata": {},
     "output_type": "execute_result"
    }
   ],
   "source": [
    "custom_dataset[0][\"labels\"]"
   ]
  },
  {
   "cell_type": "code",
   "execution_count": null,
   "id": "4bb68650",
   "metadata": {},
   "outputs": [],
   "source": []
  }
 ],
 "metadata": {
  "kernelspec": {
   "display_name": "Python 3 (ipykernel)",
   "language": "python",
   "name": "python3"
  },
  "language_info": {
   "codemirror_mode": {
    "name": "ipython",
    "version": 3
   },
   "file_extension": ".py",
   "mimetype": "text/x-python",
   "name": "python",
   "nbconvert_exporter": "python",
   "pygments_lexer": "ipython3",
   "version": "3.10.6"
  }
 },
 "nbformat": 4,
 "nbformat_minor": 5
}
